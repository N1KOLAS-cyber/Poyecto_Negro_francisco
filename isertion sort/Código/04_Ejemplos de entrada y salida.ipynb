{
 "cells": [
  {
   "cell_type": "markdown",
   "metadata": {},
   "source": [
    "EJEMPLOS DE ENTRADA Y SALIDA"
   ]
  },
  {
   "cell_type": "code",
   "execution_count": 1,
   "metadata": {},
   "outputs": [
    {
     "name": "stdout",
     "output_type": "stream",
     "text": [
      "\n",
      "Lista inicial: [7, 2, 6, 4]\n",
      "Paso 1: [2, 7, 6, 4]\n",
      "Paso 2: [2, 6, 7, 4]\n",
      "Paso 3: [2, 4, 6, 7]\n",
      "Lista ordenada: [2, 4, 6, 7]\n",
      "\n",
      "Lista inicial: [5, 2, 4, 6, 1, 3]\n",
      "Paso 1: [2, 5, 4, 6, 1, 3]\n",
      "Paso 2: [2, 4, 5, 6, 1, 3]\n",
      "Paso 3: [2, 4, 5, 6, 1, 3]\n",
      "Paso 4: [1, 2, 4, 5, 6, 3]\n",
      "Paso 5: [1, 2, 3, 4, 5, 6]\n",
      "Lista ordenada: [1, 2, 3, 4, 5, 6]\n"
     ]
    }
   ],
   "source": [
    "import time\n",
    "\n",
    "def insertion_sort(arr):\n",
    "    print(f\"\\nLista inicial: {arr}\")\n",
    "    for i in range(1, len(arr)):\n",
    "        key = arr[i]\n",
    "        j = i - 1\n",
    "        while j >= 0 and arr[j] > key:\n",
    "            arr[j + 1] = arr[j]\n",
    "            j -= 1\n",
    "        arr[j + 1] = key\n",
    "        print(f\"Paso {i}: {arr}\")  # Mostrar cada cambio en la lista\n",
    "        time.sleep(1)  # Pausa para visualizar mejor los pasos\n",
    "    return arr\n",
    "\n",
    "# Ejemplo 1\n",
    "resultado1 = insertion_sort([7, 2, 6, 4])\n",
    "print(f\"Lista ordenada: {resultado1}\")\n",
    "\n",
    "# Ejemplo 2\n",
    "resultado2 = insertion_sort([5, 2, 4, 6, 1, 3])\n",
    "print(f\"Lista ordenada: {resultado2}\")"
   ]
  }
 ],
 "metadata": {
  "kernelspec": {
   "display_name": "Python 3",
   "language": "python",
   "name": "python3"
  },
  "language_info": {
   "codemirror_mode": {
    "name": "ipython",
    "version": 3
   },
   "file_extension": ".py",
   "mimetype": "text/x-python",
   "name": "python",
   "nbconvert_exporter": "python",
   "pygments_lexer": "ipython3",
   "version": "3.11.9"
  }
 },
 "nbformat": 4,
 "nbformat_minor": 2
}
