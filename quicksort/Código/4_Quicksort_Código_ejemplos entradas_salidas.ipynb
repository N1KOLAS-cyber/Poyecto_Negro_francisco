{
  "nbformat": 4,
  "nbformat_minor": 0,
  "metadata": {
    "colab": {
      "provenance": []
    },
    "kernelspec": {
      "name": "python3",
      "display_name": "Python 3"
    },
    "language_info": {
      "name": "python"
    }
  },
  "cells": [
    {
      "cell_type": "markdown",
      "source": [
        "Se presenta el código de Quicksort para el ordenamiento de una lista, de primera mano tenemos el código optimizado utilizando un pivote que es el promedio de los parámetros introducidos."
      ],
      "metadata": {
        "id": "nOwgwIzyKrnf"
      }
    },
    {
      "cell_type": "code",
      "execution_count": null,
      "metadata": {
        "id": "ppOXp-ETfUFb"
      },
      "outputs": [],
      "source": [
        "def quicksort(L, first, last):\n",
        "    # definimos los índices y calculamos el pivote\n",
        "    i = first\n",
        "    j = last\n",
        "    pivote = (L[i] + L[j]) / 2\n",
        "\n",
        "    # iteramos hasta que i no sea menor que j\n",
        "    while i < j:\n",
        "        # iteramos mientras que el valor de L[i] sea menor que pivote\n",
        "        while L[i] < pivote:\n",
        "            # Incrementamos el índice\n",
        "            i+=1\n",
        "        # iteramos mientras que el valor de L[j] sea mayor que pivote\n",
        "        while L[j] > pivote:\n",
        "            # decrementamos el índice\n",
        "            j-=1\n",
        "        # si i es menor o igual que j significa que los índices se han cruzado\n",
        "        if i <= j:\n",
        "            # creamos una variable temporal para guardar el valor de L[j]\n",
        "            x = L[j]\n",
        "            # intercambiamos los valores de L[j] y L[i]\n",
        "            L[j] = L[i]\n",
        "            L[i] = x\n",
        "            # incrementamos y decrementamos i y j respectivamente\n",
        "            i+=1\n",
        "            j-=1\n",
        "\n",
        "    # si first es menor que j mantenemos la recursividad\n",
        "    if first < j:\n",
        "        L = quicksort(L, first, j)\n",
        "    # si last es mayor que i mantenemos la recursividad\n",
        "    if last > i:\n",
        "        L = quicksort(L, i, last)\n",
        "\n",
        "    # Devuelve siempre la lista, incluso si no se realizan más llamadas recursivas\n",
        "    return L"
      ]
    },
    {
      "cell_type": "code",
      "source": [
        "# Lista de ejemplo\n",
        "L = [33, 10, 55, 71, 29, 8, 100]\n",
        "\n",
        "# Llamada inicial a quicksort\n",
        "L_ordenada = quicksort(L, 0, len(L) - 1)\n",
        "\n",
        "# Imprimir la lista ordenada\n",
        "print(L_ordenada)"
      ],
      "metadata": {
        "colab": {
          "base_uri": "https://localhost:8080/"
        },
        "id": "_s2FaNLDfgYv",
        "outputId": "25441b8b-a726-45b1-cbc7-8e9607230956"
      },
      "execution_count": null,
      "outputs": [
        {
          "output_type": "stream",
          "name": "stdout",
          "text": [
            "[8, 10, 29, 33, 55, 71, 100]\n"
          ]
        }
      ]
    },
    {
      "cell_type": "markdown",
      "source": [
        "Posteriormente se presenta el código escogiendo unicamente el pivote como primer elemento. Estas pruebas se realizandon con diferentes listas."
      ],
      "metadata": {
        "id": "V-pln5nZLL6-"
      }
    },
    {
      "cell_type": "code",
      "source": [
        "def quicksort(L, first, last):\n",
        "    while first < last:\n",
        "        # Definir el pivote como el primer elemento\n",
        "        pivote = L[first]\n",
        "        i = first + 1\n",
        "        j = last\n",
        "\n",
        "        while i <= j:\n",
        "            while i <= j and L[i] < pivote:\n",
        "                i += 1\n",
        "            while i <= j and L[j] > pivote:\n",
        "                j -= 1\n",
        "            if i <= j:\n",
        "                L[i], L[j] = L[j], L[i]\n",
        "                i += 1\n",
        "                j -= 1\n",
        "\n",
        "        # Colocar el pivote en su posición correcta\n",
        "        L[first], L[j] = L[j], L[first]\n",
        "\n",
        "        # Llamadas recursivas optimizadas\n",
        "        if (j - first) < (last - j):  # Optimización para reducir la pila de llamadas\n",
        "            quicksort(L, first, j - 1)\n",
        "            first = j + 1  # Reemplazo de recursión por un loop\n",
        "        else:\n",
        "            quicksort(L, j + 1, last)\n",
        "            last = j - 1  # Reemplazo de recursión por un loop\n",
        "\n",
        "    return L"
      ],
      "metadata": {
        "id": "BIGclcANfixs"
      },
      "execution_count": null,
      "outputs": []
    },
    {
      "cell_type": "code",
      "source": [
        "# Lista de ejemplo\n",
        "L = [100, 80, 75, 71, 29, 8]\n",
        "\n",
        "# Llamada inicial a quicksort\n",
        "L_ordenada = quicksort(L, 0, len(L) - 1)\n",
        "\n",
        "# Imprimir la lista ordenada\n",
        "print(L_ordenada)"
      ],
      "metadata": {
        "colab": {
          "base_uri": "https://localhost:8080/"
        },
        "id": "AxGAW-Twf51l",
        "outputId": "147d83a6-835c-4b6a-89ec-cfd7093e6a19"
      },
      "execution_count": null,
      "outputs": [
        {
          "output_type": "stream",
          "name": "stdout",
          "text": [
            "[8, 29, 71, 75, 80, 100]\n"
          ]
        }
      ]
    }
  ]
}